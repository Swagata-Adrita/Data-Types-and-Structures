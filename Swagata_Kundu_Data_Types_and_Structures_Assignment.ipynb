{
 "cells": [
  {
   "cell_type": "markdown",
   "id": "02472855",
   "metadata": {},
   "source": [
    "# Assignment of Python Basics by Swagata Kundu\n",
    "\n",
    "## Theory Questions:"
   ]
  },
  {
   "cell_type": "markdown",
   "id": "d960cf57",
   "metadata": {
    "jp-MarkdownHeadingCollapsed": true
   },
   "source": [
    "### 1. What are data structures, and why are they important?\n",
    "\n",
    "Data structures are ways to organize and store data so that it can be accessed and modified efficiently. Think of them as containers or blueprints that allow us to manage and manipulate data in various ways. Here are a few common data structures:\n",
    "\n",
    "- #### Arrays:\n",
    "    A collection of elements identified by index or key. They're useful when you want to store items of the same type together and access them quickly.\n",
    "\n",
    "- #### Linked Lists: \n",
    "    A sequence of elements where each element points to the next one. They are useful for dynamic memory allocation and efficient insertions/deletions.\n",
    "\n",
    "- #### Stacks: \n",
    "    A collection of elements that follows the Last In, First Out (LIFO) principle. Think of it as a stack of plates; you can only add or remove the top plate.\n",
    "\n",
    "- #### Queues: \n",
    "    A collection of elements that follows the First In, First Out (FIFO) principle. It's like waiting in line; the first person in line is the first to be served.\n",
    "\n",
    "- #### Trees: \n",
    "    A hierarchical structure with a root element and child elements. They are useful for representing hierarchical relationships, such as file systems.\n",
    "    \n",
    "- #### Graphs: \n",
    "    A collection of nodes (vertices) connected by edges. They are used to represent networks, such as social networks or transportation systems.\n",
    "\n",
    "\n",
    "\n",
    "#### Importance of Data Structures:\n",
    "\n",
    "- Efficiency: They help in efficient data storage, retrieval, and modification.\n",
    "\n",
    "- Memory Management: Proper data structures ensure optimal memory usage.\n",
    "\n",
    "- Code Clarity: Using appropriate data structures makes the code more readable and maintainable.\n",
    "\n",
    "- Performance: They are crucial for optimizing the performance of algorithms and applications.\n",
    "\n",
    "    Data structures are the backbone of computer science and software development, enabling us to solve complex problems efficiently and effectively.\n",
    "\n"
   ]
  },
  {
   "cell_type": "markdown",
   "id": "bddcee1a",
   "metadata": {},
   "source": [
    "### 2. Explain the difference between mutable and immutable data types with examples?\n",
    "\n",
    "- #### Mutable Data Types\n",
    "    Mutable data types are those that can be changed after they are created. This means you can modify the contents of the object without creating a new one. Here are some examples:\n",
    "\n",
    "         Lists (Python):"
   ]
  },
  {
   "cell_type": "code",
   "execution_count": 2,
   "id": "e501f99c",
   "metadata": {},
   "outputs": [
    {
     "name": "stdout",
     "output_type": "stream",
     "text": [
      "[1, 2, 3, 4]\n"
     ]
    }
   ],
   "source": [
    "# Creating a list\n",
    "my_list = [1, 2, 3]\n",
    "# Modifying the list\n",
    "my_list.append(4)\n",
    "print(my_list)  # Output: [1, 2, 3, 4]\n"
   ]
  },
  {
   "cell_type": "markdown",
   "id": "e19329d1",
   "metadata": {},
   "source": [
    "            Dictionaries (Python):"
   ]
  },
  {
   "cell_type": "code",
   "execution_count": 3,
   "id": "45b88104",
   "metadata": {},
   "outputs": [
    {
     "name": "stdout",
     "output_type": "stream",
     "text": [
      "{'a': 1, 'b': 2, 'c': 3}\n"
     ]
    }
   ],
   "source": [
    "# Creating a dictionary\n",
    "my_dict = {'a': 1, 'b': 2}\n",
    "# Modifying the dictionary\n",
    "my_dict['c'] = 3\n",
    "print(my_dict)  # Output: {'a': 1, 'b': 2, 'c': 3}\n"
   ]
  },
  {
   "cell_type": "markdown",
   "id": "e627f6d1",
   "metadata": {},
   "source": [
    "   - #### Immutable Data Types\n",
    "        Immutable data types, on the other hand, cannot be changed once they are created. If you want to modify an immutable object, you have to create a new one. Here are some examples:\n",
    "\n",
    "            Strings (Python):"
   ]
  },
  {
   "cell_type": "code",
   "execution_count": 4,
   "id": "0ebe407c",
   "metadata": {},
   "outputs": [
    {
     "name": "stdout",
     "output_type": "stream",
     "text": [
      "Hello World\n",
      "Hello\n"
     ]
    }
   ],
   "source": [
    "# Creating a string\n",
    "my_string = \"Hello\"\n",
    "# Modifying the string (creates a new string)\n",
    "new_string = my_string + \" World\"\n",
    "print(new_string)  # Output: \"Hello World\"\n",
    "print(my_string)   # Output: \"Hello\" (original string remains unchanged)\n"
   ]
  },
  {
   "cell_type": "markdown",
   "id": "018ab0fd",
   "metadata": {},
   "source": [
    "         Tuples (Python):"
   ]
  },
  {
   "cell_type": "code",
   "execution_count": 5,
   "id": "51c0a858",
   "metadata": {},
   "outputs": [
    {
     "ename": "TypeError",
     "evalue": "'tuple' object does not support item assignment",
     "output_type": "error",
     "traceback": [
      "\u001b[0;31m---------------------------------------------------------------------------\u001b[0m",
      "\u001b[0;31mTypeError\u001b[0m                                 Traceback (most recent call last)",
      "Cell \u001b[0;32mIn[5], line 6\u001b[0m\n\u001b[1;32m      2\u001b[0m my_tuple \u001b[38;5;241m=\u001b[39m (\u001b[38;5;241m1\u001b[39m, \u001b[38;5;241m2\u001b[39m, \u001b[38;5;241m3\u001b[39m)\n\u001b[1;32m      3\u001b[0m \u001b[38;5;66;03m# Attempting to modify the tuple will result in an error\u001b[39;00m\n\u001b[1;32m      4\u001b[0m \u001b[38;5;66;03m# my_tuple[0] = 4  # This will raise a TypeError\u001b[39;00m\n\u001b[0;32m----> 6\u001b[0m \u001b[43mmy_tuple\u001b[49m\u001b[43m[\u001b[49m\u001b[38;5;241;43m0\u001b[39;49m\u001b[43m]\u001b[49m \u001b[38;5;241m=\u001b[39m \u001b[38;5;241m4\u001b[39m \n",
      "\u001b[0;31mTypeError\u001b[0m: 'tuple' object does not support item assignment"
     ]
    }
   ],
   "source": [
    "# Creating a tuple\n",
    "my_tuple = (1, 2, 3)\n",
    "# Attempting to modify the tuple will result in an error\n",
    "# my_tuple[0] = 4  # This will raise a TypeError\n",
    "\n",
    "my_tuple[0] = 4 "
   ]
  },
  {
   "cell_type": "markdown",
   "id": "3cd5eec2",
   "metadata": {},
   "source": [
    "### 3. What are the main differences between lists and tuples in Python?\n",
    "\n",
    "Both lists and tuples are sequence data types in Python that can store a collection of items. However, they have some key differences:\n",
    "\n",
    "- #### Lists\n",
    "    Mutable: Elements can be modified, added, or removed after the list is created.\n",
    "\n",
    "    Syntax: Defined using square brackets [ ].\n",
    "\n",
    "    Performance: Slightly slower than tuples due to their mutability.\n",
    "\n",
    "    Use Cases: Ideal for collections of items that need to be modified during the program's execution.\n",
    "\n",
    "    Example:"
   ]
  },
  {
   "cell_type": "code",
   "execution_count": 6,
   "id": "94d78378",
   "metadata": {},
   "outputs": [
    {
     "name": "stdout",
     "output_type": "stream",
     "text": [
      "[1, 2, 3, 4]\n"
     ]
    }
   ],
   "source": [
    "# Creating a list\n",
    "my_list = [1, 2, 3]\n",
    "# Modifying the list\n",
    "my_list.append(4)\n",
    "print(my_list)  # Output: [1, 2, 3, 4]"
   ]
  },
  {
   "cell_type": "markdown",
   "id": "51222a16",
   "metadata": {},
   "source": [
    "- #### Tuples\n",
    "    Immutable: Elements cannot be modified after the tuple is created.\n",
    "\n",
    "    Syntax: Defined using parentheses ( ).\n",
    "\n",
    "    Performance: Faster than lists due to their immutability.\n",
    "\n",
    "    Use Cases: Ideal for collections of items that should not be changed, such as coordinates or fixed sets of data.\n",
    "\n",
    "    Example:"
   ]
  },
  {
   "cell_type": "code",
   "execution_count": 7,
   "id": "1d0bebc0",
   "metadata": {},
   "outputs": [
    {
     "ename": "TypeError",
     "evalue": "'tuple' object does not support item assignment",
     "output_type": "error",
     "traceback": [
      "\u001b[0;31m---------------------------------------------------------------------------\u001b[0m",
      "\u001b[0;31mTypeError\u001b[0m                                 Traceback (most recent call last)",
      "Cell \u001b[0;32mIn[7], line 5\u001b[0m\n\u001b[1;32m      2\u001b[0m my_tuple \u001b[38;5;241m=\u001b[39m (\u001b[38;5;241m1\u001b[39m, \u001b[38;5;241m2\u001b[39m, \u001b[38;5;241m3\u001b[39m)\n\u001b[1;32m      3\u001b[0m \u001b[38;5;66;03m# Attempting to modify the tuple will result in an error\u001b[39;00m\n\u001b[1;32m      4\u001b[0m \u001b[38;5;66;03m# my_tuple[0] = 4  # This will raise a TypeError\u001b[39;00m\n\u001b[0;32m----> 5\u001b[0m \u001b[43mmy_tuple\u001b[49m\u001b[43m[\u001b[49m\u001b[38;5;241;43m0\u001b[39;49m\u001b[43m]\u001b[49m \u001b[38;5;241m=\u001b[39m \u001b[38;5;241m4\u001b[39m \n",
      "\u001b[0;31mTypeError\u001b[0m: 'tuple' object does not support item assignment"
     ]
    }
   ],
   "source": [
    "# Creating a tuple\n",
    "my_tuple = (1, 2, 3)\n",
    "# Attempting to modify the tuple will result in an error\n",
    "# my_tuple[0] = 4  # This will raise a TypeError\n",
    "my_tuple[0] = 4 "
   ]
  },
  {
   "cell_type": "markdown",
   "id": "30ade642",
   "metadata": {},
   "source": [
    "### 4. Describe how dictionaries store data\n",
    "\n",
    "In Python, dictionaries are powerful and flexible data structures that store data in key-value pairs. Here's a more detailed explanation of how dictionaries work:\n",
    "\n",
    "- #### Structure\n",
    "  - #### Keys: Unique identifiers used to access the associated values. Keys must be immutable (e.g., strings, numbers, tuples).\n",
    "\n",
    "   - #### Values: The data or objects associated with the keys. Values can be of any data type and do not have to be unique.\n",
    "\n",
    "- #### Storage Mechanism:\n",
    "\n",
    "    Dictionaries are implemented using hash tables. A hash table is an array-like data structure that uses a hash function to compute an index (or hash code) into an array of buckets or slots, from which the desired value can be found.\n",
    "\n",
    "    - #### Hash Function: \n",
    "        When one adds a key-value pair to a dictionary, the key is passed through a hash function. This function converts the key into a fixed-size integer called a hash code.\n",
    "\n",
    "    - #### Index Calculation: \n",
    "        The hash code is then used to determine the index (or position) in the underlying array where the key-value pair will be stored.\n",
    "\n",
    "    - #### Storing the Pair: \n",
    "        The key-value pair is stored at the calculated index. If the index already contains a pair (hash collision), a linked list or another method is used to handle the collision, ensuring that both pairs are stored.\n",
    "        \n",
    "        \n",
    "- #### Retrieval: \n",
    "    When one wants to retrieve a value associated with a key, the key is passed through the same hash function to compute the index. The dictionary then looks at the calculated index to find and return the associated value.\n",
    "\n",
    "Example"
   ]
  },
  {
   "cell_type": "code",
   "execution_count": 8,
   "id": "564b2359",
   "metadata": {},
   "outputs": [
    {
     "name": "stdout",
     "output_type": "stream",
     "text": [
      "Alice\n",
      "30\n"
     ]
    }
   ],
   "source": [
    "# Creating a dictionary\n",
    "my_dict = {'name': 'Alice', 'age': 30, 'city': 'New York'}\n",
    "\n",
    "# Accessing values using keys\n",
    "print(my_dict['name'])  # Output: Alice\n",
    "print(my_dict['age'])   # Output: 30\n"
   ]
  },
  {
   "cell_type": "markdown",
   "id": "be6f6cb6",
   "metadata": {},
   "source": [
    "### 5. Why might you use a set instead of a list in Python?\n",
    "\n",
    "- #### 1. Uniqueness\n",
    "    Sets automatically ensure that all elements are unique. If you need to store a collection of items and want to avoid duplicates, a set is a better choice.\n",
    "    Example"
   ]
  },
  {
   "cell_type": "code",
   "execution_count": 9,
   "id": "10a19d0a",
   "metadata": {},
   "outputs": [
    {
     "name": "stdout",
     "output_type": "stream",
     "text": [
      "{1, 2, 3}\n"
     ]
    }
   ],
   "source": [
    "# Example of set ensuring uniqueness\n",
    "my_list = [1, 2, 2, 3]\n",
    "my_set = set(my_list)\n",
    "print(my_set)  # Output: {1, 2, 3}\n"
   ]
  },
  {
   "cell_type": "markdown",
   "id": "1b9b73ee",
   "metadata": {},
   "source": [
    "- #### 2. Performance for Membership Testing\n",
    "    Checking if an item exists in a set is faster than in a list because sets are implemented using hash tables. Membership testing in a set has an average time complexity of O(1) compared to O(n) for lists."
   ]
  },
  {
   "cell_type": "code",
   "execution_count": 10,
   "id": "62f1fee8",
   "metadata": {},
   "outputs": [
    {
     "name": "stdout",
     "output_type": "stream",
     "text": [
      "True\n",
      "False\n"
     ]
    }
   ],
   "source": [
    "# Example of membership testing\n",
    "my_set = {1, 2, 3}\n",
    "print(2 in my_set)  # Output: True\n",
    "print(4 in my_set)  # Output: False\n"
   ]
  },
  {
   "cell_type": "markdown",
   "id": "aafa0dac",
   "metadata": {},
   "source": [
    "- #### 3. Set Operations\n",
    "  Sets support mathematical set operations like union, intersection, difference, and symmetric difference, which are very efficient and not directly available with lists.\n",
    "  Example"
   ]
  },
  {
   "cell_type": "code",
   "execution_count": 11,
   "id": "41a60740",
   "metadata": {},
   "outputs": [
    {
     "name": "stdout",
     "output_type": "stream",
     "text": [
      "{1, 2, 3, 4, 5}\n",
      "{3}\n",
      "{1, 2}\n",
      "{1, 2, 4, 5}\n"
     ]
    }
   ],
   "source": [
    "# Example of set operations\n",
    "set1 = {1, 2, 3}\n",
    "set2 = {3, 4, 5}\n",
    "\n",
    "# Union\n",
    "print(set1 | set2)  # Output: {1, 2, 3, 4, 5}\n",
    "\n",
    "# Intersection\n",
    "print(set1 & set2)  # Output: {3}\n",
    "\n",
    "# Difference\n",
    "print(set1 - set2)  # Output: {1, 2}\n",
    "\n",
    "# Symmetric Difference\n",
    "print(set1 ^ set2)  # Output: {1, 2, 4, 5}\n"
   ]
  },
  {
   "cell_type": "markdown",
   "id": "1f54751d",
   "metadata": {},
   "source": [
    "- #### 4. Immutability (Frozen Sets)\n",
    "    If one needs a collection of items that should not change, you can use a frozenset, which is an immutable version of a set. Lists do not have an immutable counterpart."
   ]
  },
  {
   "cell_type": "code",
   "execution_count": 12,
   "id": "17929ed9",
   "metadata": {},
   "outputs": [
    {
     "ename": "AttributeError",
     "evalue": "'frozenset' object has no attribute 'add'",
     "output_type": "error",
     "traceback": [
      "\u001b[0;31m---------------------------------------------------------------------------\u001b[0m",
      "\u001b[0;31mAttributeError\u001b[0m                            Traceback (most recent call last)",
      "Cell \u001b[0;32mIn[12], line 4\u001b[0m\n\u001b[1;32m      2\u001b[0m my_frozenset \u001b[38;5;241m=\u001b[39m \u001b[38;5;28mfrozenset\u001b[39m([\u001b[38;5;241m1\u001b[39m, \u001b[38;5;241m2\u001b[39m, \u001b[38;5;241m3\u001b[39m])\n\u001b[1;32m      3\u001b[0m \u001b[38;5;66;03m# my_frozenset.add(4)  # This will raise an AttributeError\u001b[39;00m\n\u001b[0;32m----> 4\u001b[0m \u001b[43mmy_frozenset\u001b[49m\u001b[38;5;241;43m.\u001b[39;49m\u001b[43madd\u001b[49m(\u001b[38;5;241m4\u001b[39m)\n",
      "\u001b[0;31mAttributeError\u001b[0m: 'frozenset' object has no attribute 'add'"
     ]
    }
   ],
   "source": [
    "# Example of frozenset\n",
    "my_frozenset = frozenset([1, 2, 3])\n",
    "# my_frozenset.add(4)  # This will raise an AttributeError\n",
    "my_frozenset.add(4)"
   ]
  },
  {
   "cell_type": "markdown",
   "id": "d1738ca0",
   "metadata": {},
   "source": [
    "- #### 5. Readability\n",
    "    Using sets can make ones code more readable by clearly indicating that the collection is intended to store unique items and perform set operations.\n",
    "\n",
    "    Choosing between a set and a list depends on the specific requirements of your program. Sets offer unique features and performance benefits that make them suitable for certain use cases, especially when dealing with unique elements and membership testing."
   ]
  },
  {
   "cell_type": "markdown",
   "id": "b5982a03",
   "metadata": {},
   "source": [
    "### 6. What is a string in Python, and how is it different from a list?\n",
    "\n",
    "\n",
    "- #### Strings in Python\n",
    "    A string in Python is a sequence of characters enclosed within single quotes (' '), double quotes (\" \"), or triple quotes (''' ''' or \"\"\" \"\"\"). Strings are used to represent text and are immutable, meaning once a string is created, it cannot be modified.\n",
    "\n",
    "    Example:"
   ]
  },
  {
   "cell_type": "code",
   "execution_count": 13,
   "id": "431cb4f9",
   "metadata": {},
   "outputs": [
    {
     "name": "stdout",
     "output_type": "stream",
     "text": [
      "Hello, World!\n"
     ]
    }
   ],
   "source": [
    "# Creating a string\n",
    "my_string = \"Hello, World!\"\n",
    "print(my_string)  # Output: Hello, World!\n"
   ]
  },
  {
   "cell_type": "markdown",
   "id": "4142c829",
   "metadata": {},
   "source": [
    "- #### Lists in Python\n",
    "    A list in Python is a collection of items (elements) enclosed within square brackets ([ ]). Lists are mutable, meaning you can modify their contents after creation.\n",
    "\n",
    "    Example:\n",
    "    "
   ]
  },
  {
   "cell_type": "code",
   "execution_count": 14,
   "id": "b398dfc4",
   "metadata": {},
   "outputs": [
    {
     "name": "stdout",
     "output_type": "stream",
     "text": [
      "[1, 2, 3, 'Hello']\n"
     ]
    }
   ],
   "source": [
    "# Creating a list\n",
    "my_list = [1, 2, 3, \"Hello\"]\n",
    "print(my_list)  # Output: [1, 2, 3, 'Hello']\n"
   ]
  },
  {
   "cell_type": "markdown",
   "id": "11761911",
   "metadata": {},
   "source": []
  },
  {
   "cell_type": "markdown",
   "id": "cfc72722",
   "metadata": {},
   "source": [
    "### 7. How do tuples ensure data integrity in Python?\n",
    "\n",
    "- Tuples in Python help ensure data integrity through the following features:\n",
    "\n",
    "    Immutability: Once a tuple is created, its elements cannot be modified, added, or removed. This immutability ensures that the data remains consistent and unchanged throughout the program.\n",
    "\n",
    "    Hashability: Because tuples are immutable, they can be used as keys in dictionaries or stored in sets, which require elements to be hashable. This makes tuples useful for maintaining the integrity of data in collections that rely on hash-based structures.\n",
    "\n",
    "    Type Enforcement: While Python is dynamically typed, using tuples can help enforce a fixed structure for data. For example, you can use tuples to group related data together (like a record) and maintain a consistent format.\n",
    "\n",
    "Here's a simple example to illustrate how tuples can be used to ensure data integrity:"
   ]
  },
  {
   "cell_type": "code",
   "execution_count": 15,
   "id": "02397cb5",
   "metadata": {},
   "outputs": [
    {
     "name": "stdout",
     "output_type": "stream",
     "text": [
      "{('John', 'Doe', 30): 30}\n"
     ]
    }
   ],
   "source": [
    "# Define a tuple\n",
    "person_info = (\"John\", \"Doe\", 30)\n",
    "\n",
    "# Trying to modify the tuple will result in an error\n",
    "# person_info[0] = \"Jane\"  # This will raise a TypeError\n",
    "\n",
    "# Use the tuple as a key in a dictionary\n",
    "people_ages = {person_info: 30}\n",
    "\n",
    "print(people_ages)  # Output: {('John', 'Doe', 30): 30}\n"
   ]
  },
  {
   "cell_type": "markdown",
   "id": "de65d305",
   "metadata": {},
   "source": [
    "### 8. What is a hash table, and how does it relate to dictionaries in Python\n",
    "\n",
    "-   A hash table is a data structure that stores key-value pairs, where each key is mapped to a specific value using a hash function. This allows for efficient data retrieval, insertion, and deletion. The hash function takes the key and produces an index, which is used to store the corresponding value in an array. Hash tables are particularly useful for implementing associative arrays or mappings.\n",
    "\n",
    "In Python, dictionaries are implemented using hash tables. When you create a dictionary, Python uses a hash function to map the keys to specific positions in an internal array. This allows for fast lookups, as the hash function can quickly determine the index where the value is stored.\n",
    "\n",
    "Here's a simple example to illustrate the relationship between hash tables and dictionaries in Python:\n",
    "\n"
   ]
  },
  {
   "cell_type": "code",
   "execution_count": 16,
   "id": "21874945",
   "metadata": {},
   "outputs": [
    {
     "name": "stdout",
     "output_type": "stream",
     "text": [
      "90\n",
      "85\n",
      "Alice's grade is: 90\n"
     ]
    }
   ],
   "source": [
    "# Creating a dictionary\n",
    "student_grades = {\n",
    "    \"Alice\": 90,\n",
    "    \"Bob\": 85,\n",
    "    \"Charlie\": 92\n",
    "}\n",
    "\n",
    "# Accessing values using keys\n",
    "print(student_grades[\"Alice\"])  # Output: 90\n",
    "print(student_grades[\"Bob\"])    # Output: 85\n",
    "\n",
    "# Adding a new key-value pair\n",
    "student_grades[\"David\"] = 88\n",
    "\n",
    "# Removing a key-value pair\n",
    "del(student_grades[\"Charlie\"])\n",
    "\n",
    "# Checking if a key exists\n",
    "if \"Alice\" in student_grades:\n",
    "    print(\"Alice's grade is:\", student_grades[\"Alice\"])\n",
    "else:\n",
    "    print(\"Alice is not in the dictionary.\")\n"
   ]
  },
  {
   "cell_type": "markdown",
   "id": "644c071e",
   "metadata": {},
   "source": [
    "### 9.Can lists contain different data types in Python?\n",
    "\n",
    "- Python lists are quite versatile and can contain different data types. You can mix integers, floats, strings, booleans, and even other lists within a single list. Here's a quick example to demonstrate this:"
   ]
  },
  {
   "cell_type": "code",
   "execution_count": 17,
   "id": "b2f97ebb",
   "metadata": {},
   "outputs": [
    {
     "name": "stdout",
     "output_type": "stream",
     "text": [
      "1\n",
      "Hello\n",
      "3.14\n",
      "True\n",
      "[2, 4, 6]\n",
      "[1, 'World', 3.14, True, [2, 4, 6]]\n"
     ]
    }
   ],
   "source": [
    "# A list containing different data types\n",
    "mixed_list = [1, \"Hello\", 3.14, True, [2, 4, 6]]\n",
    "\n",
    "# Accessing elements of the mixed list\n",
    "print(mixed_list[0])  # Output: 1\n",
    "print(mixed_list[1])  # Output: \"Hello\"\n",
    "print(mixed_list[2])  # Output: 3.14\n",
    "print(mixed_list[3])  # Output: True\n",
    "print(mixed_list[4])  # Output: [2, 4, 6]\n",
    "\n",
    "# Modifying an element in the mixed list\n",
    "mixed_list[1] = \"World\"\n",
    "print(mixed_list)  # Output: [1, \"World\", 3.14, True, [2, 4, 6]]\n"
   ]
  },
  {
   "cell_type": "markdown",
   "id": "1ffcaaca",
   "metadata": {},
   "source": [
    "- The mixed_list contains an integer, a string, a float, a boolean, and another list. This flexibility is one of the reasons why lists are such a powerful and commonly used data structure in Python."
   ]
  },
  {
   "cell_type": "markdown",
   "id": "f9c535ee",
   "metadata": {},
   "source": [
    "### 10.Explain why strings are immutable in Python\n",
    "\n",
    "- Strings in Python are immutable, meaning that once they are created, their content cannot be changed. There are several reasons for this design choice:\n",
    "\n",
    "Performance Optimization: Immutable objects, such as strings, can be stored more efficiently in memory. Since their content doesn't change, the same string can be shared across different parts of the program without creating multiple copies. This reduces memory usage and can improve performance.\n",
    "\n",
    "Hashing and Dictionaries: Strings are often used as keys in dictionaries, which rely on hash tables. For a hash table to work correctly, the hash value of the key must remain constant. If strings were mutable, their hash values could change, leading to inconsistencies and making it difficult to retrieve the correct values from dictionaries.\n",
    "\n",
    "Thread Safety: In multi-threaded programs, immutable objects are inherently thread-safe because their content cannot be modified by one thread while another thread is accessing them. This reduces the risk of race conditions and other concurrency issues.\n",
    "\n",
    "Simplicity and Predictability: Immutable objects are easier to reason about because their state cannot change after creation. This can lead to fewer bugs and make the code more predictable and easier to understand.\n",
    "\n",
    "Here's an example to illustrate the immutability of strings:\n",
    "\n"
   ]
  },
  {
   "cell_type": "code",
   "execution_count": 18,
   "id": "52afc02a",
   "metadata": {},
   "outputs": [
    {
     "name": "stdout",
     "output_type": "stream",
     "text": [
      "Hello\n"
     ]
    }
   ],
   "source": [
    "# Creating a string\n",
    "original_string = \"hello\"\n",
    "\n",
    "# Trying to change a character in the string (this will raise an error)\n",
    "# original_string[0] = \"H\"  # Uncommenting this line will raise a TypeError\n",
    "\n",
    "# Instead, create a new string with the desired changes\n",
    "new_string = \"H\" + original_string[1:]\n",
    "print(new_string)  # Output: \"Hello\"\n"
   ]
  },
  {
   "cell_type": "markdown",
   "id": "f91d4081",
   "metadata": {},
   "source": [
    "### 11. What advantages do dictionaries offer over lists for certain tasks\n",
    "\n",
    "- Dictionaries and lists are both essential data structures in Python, but they serve different purposes and have distinct advantages for specific tasks. Here are some advantages of dictionaries over lists:\n",
    "\n",
    "Key-Value Pair Storage: Dictionaries store data as key-value pairs, allowing you to quickly retrieve values using unique keys. This is useful when you need to associate specific labels or identifiers with data.\n",
    "\n",
    "Fast Lookups: Dictionaries offer fast lookups, insertions, and deletions because they are implemented using hash tables. This makes them more efficient than lists for tasks that involve frequent access or updates based on unique keys.\n",
    "\n",
    "No Duplicate Keys: In dictionaries, keys must be unique, which ensures that each key is associated with only one value. This prevents duplicate entries and helps maintain data integrity.\n",
    "\n",
    "Clear Data Organization: Using keys to label data can make your code more readable and self-explanatory. This is particularly useful for representing real-world objects or structured data.\n",
    "\n",
    "Flexible Data Storage: Dictionaries can store heterogeneous data types and even other dictionaries or lists as values, making them versatile for complex data structures.\n",
    "\n"
   ]
  },
  {
   "cell_type": "markdown",
   "id": "6f998d69",
   "metadata": {},
   "source": [
    "###  12. Describe a scenario where using a tuple would be preferable over a list\n",
    "\n",
    "-   There are several scenarios where using a tuple would be preferable over a list in Python. One key reason to use tuples is immutability: once a tuple is created, its elements cannot be changed. This makes tuples suitable for situations where data integrity and protection are important. Here are a few examples:\n",
    "\n",
    "-       Storing Fixed Data: When you have a collection of values that should not change, such as coordinates or RGB color values, using a tuple ensures the data remains constant.\n",
    "\n",
    "- Using as Dictionary Keys: Tuples can be used as keys in dictionaries because they are immutable, whereas lists cannot be used as keys.\n",
    "\n",
    "- Ensuring Read-Only Data: When passing data to a function, using tuples can ensure that the function does not modify the input data.\n",
    "\n",
    "- Performance Optimization: Tuples have a smaller memory footprint and can be faster to access than lists. For large datasets where the data does not need to be modified, using tuples can improve performance."
   ]
  },
  {
   "cell_type": "markdown",
   "id": "e8838771",
   "metadata": {},
   "source": [
    "### 13. How do sets handle duplicate values in Python\n",
    "\n",
    "-   In Python, sets automatically handle duplicate values by only storing unique elements. When you add elements to a set, any duplicate values are ignored. This means that a set cannot contain multiple occurrences of the same value. Here's a quick example to illustrate how sets handle duplicates:"
   ]
  },
  {
   "cell_type": "code",
   "execution_count": 7,
   "metadata": {},
   "outputs": [
    {
     "name": "stdout",
     "output_type": "stream",
     "text": [
      "{1, 2, 3, 4, 5}\n",
      "{1, 2, 3, 4, 5}\n"
     ]
    }
   ],
   "source": [
    "# Creating a set with duplicate values\n",
    "my_set = {1, 2, 3, 2, 4, 5, 1}\n",
    "\n",
    "# Printing the set\n",
    "print(my_set)  # Output: {1, 2, 3, 4, 5}\n",
    "\n",
    "# Adding a duplicate value\n",
    "my_set.add(3)\n",
    "\n",
    "# Printing the set again\n",
    "print(my_set)  # Output: {1, 2, 3, 4, 5}\n"
   ]
  },
  {
   "cell_type": "markdown",
   "metadata": {},
   "source": [
    "-   As it can be seen, even though we tried to add duplicate values (1 and 2) when creating the set and later added the value 3 again, the set only stores unique elements. The duplicates are automatically discarded."
   ]
  },
  {
   "cell_type": "markdown",
   "metadata": {},
   "source": [
    "### 14. How does the “in” keyword work differently for lists and dictionaries\n",
    "\n",
    "-   In Python, the in keyword is used to check for the presence of an element within a data structure, but it works differently for lists and dictionaries:\n",
    "\n",
    "-       For Lists: The in keyword checks if a specific value is present in the list. It iterates through the list and returns True if it finds the element; otherwise, it returns False."
   ]
  },
  {
   "cell_type": "code",
   "execution_count": 8,
   "metadata": {},
   "outputs": [
    {
     "name": "stdout",
     "output_type": "stream",
     "text": [
      "True\n",
      "False\n"
     ]
    }
   ],
   "source": [
    "my_list = [1, 2, 3, 4, 5]\n",
    "\n",
    "# Check if 3 is in the list\n",
    "print(3 in my_list)  # Output: True\n",
    "\n",
    "# Check if 6 is in the list\n",
    "print(6 in my_list)  # Output: False\n"
   ]
  },
  {
   "cell_type": "markdown",
   "metadata": {},
   "source": [
    "-       For Dictionaries: The in keyword checks if a specific key is present in the dictionary. It does not check the values, only the keys. It returns True if the key is found; otherwise, it returns False."
   ]
  },
  {
   "cell_type": "code",
   "execution_count": 9,
   "metadata": {},
   "outputs": [
    {
     "name": "stdout",
     "output_type": "stream",
     "text": [
      "True\n",
      "False\n"
     ]
    }
   ],
   "source": [
    "my_dict = {\"Alice\": 90, \"Bob\": 85, \"Charlie\": 92}\n",
    "\n",
    "# Check if \"Alice\" is a key in the dictionary\n",
    "print(\"Alice\" in my_dict)  # Output: True\n",
    "\n",
    "# Check if \"David\" is a key in the dictionary\n",
    "print(\"David\" in my_dict)  # Output: False\n"
   ]
  },
  {
   "cell_type": "markdown",
   "metadata": {},
   "source": [
    "### 15. Can you modify the elements of a tuple? Explain why or why not?\n",
    "\n",
    "-   No, you cannot modify the elements of a tuple in Python. Tuples are immutable, meaning that once they are created, their content cannot be changed. This immutability has several implications:\n",
    "\n",
    "-   Data Integrity: Because tuples cannot be modified, they are often used to store data that should remain constant throughout the program. This ensures that the data remains consistent and prevents accidental changes.\n",
    "\n",
    "-   Hashability: Due to their immutability, tuples can be used as keys in dictionaries or elements in sets, both of which require their keys or elements to be hashable (i.e., their hash values must not change).\n",
    "\n",
    "-   Thread Safety: In multi-threaded programs, tuples are inherently thread-safe because their content cannot be changed by any thread, reducing the risk of race conditions and other concurrency issues.\n",
    "\n",
    "Here's an example to illustrate the immutability of tuples:"
   ]
  },
  {
   "cell_type": "code",
   "execution_count": 10,
   "metadata": {},
   "outputs": [
    {
     "name": "stdout",
     "output_type": "stream",
     "text": [
      "(10, 2, 3)\n"
     ]
    }
   ],
   "source": [
    "# Creating a tuple\n",
    "my_tuple = (1, 2, 3)\n",
    "\n",
    "# Trying to modify an element in the tuple (this will raise an error)\n",
    "# my_tuple[0] = 10  # Uncommenting this line will raise a TypeError\n",
    "\n",
    "# Instead, create a new tuple with the desired changes\n",
    "new_tuple = (10,) + my_tuple[1:]\n",
    "print(new_tuple)  # Output: (10, 2, 3)\n"
   ]
  },
  {
   "cell_type": "markdown",
   "metadata": {},
   "source": [
    "### 16. What is a nested dictionary, and give an example of its use case?\n",
    "\n",
    "-   A nested dictionary is a dictionary where the values are themselves dictionaries. This allows you to store data in a hierarchical structure, making it useful for representing more complex data relationships.\n",
    "\n",
    "-       Here's an example of a nested dictionary and a practical use case:\n",
    "\n",
    "-       Example: Nested Dictionary for Storing Student Grades by Subject"
   ]
  },
  {
   "cell_type": "code",
   "execution_count": 11,
   "metadata": {},
   "outputs": [
    {
     "name": "stdout",
     "output_type": "stream",
     "text": [
      "90\n",
      "88\n",
      "Bob's Math grade is: 78\n"
     ]
    }
   ],
   "source": [
    "# Creating a nested dictionary\n",
    "student_grades = {\n",
    "    \"Alice\": {\n",
    "        \"Math\": 90,\n",
    "        \"Science\": 85,\n",
    "        \"History\": 92\n",
    "    },\n",
    "    \"Bob\": {\n",
    "        \"Math\": 78,\n",
    "        \"Science\": 88,\n",
    "        \"History\": 80\n",
    "    },\n",
    "    \"Charlie\": {\n",
    "        \"Math\": 85,\n",
    "        \"Science\": 79,\n",
    "        \"History\": 91\n",
    "    }\n",
    "}\n",
    "\n",
    "# Accessing values in the nested dictionary\n",
    "print(student_grades[\"Alice\"][\"Math\"])  # Output: 90\n",
    "print(student_grades[\"Bob\"][\"Science\"])  # Output: 88\n",
    "\n",
    "# Adding a new subject and grade for a student\n",
    "student_grades[\"Alice\"][\"English\"] = 87\n",
    "\n",
    "# Removing a subject and grade for a student\n",
    "del(student_grades[\"Charlie\"][\"History\"])\n",
    "\n",
    "# Checking if a student has a grade for a particular subject\n",
    "if \"Math\" in student_grades[\"Bob\"]:\n",
    "    print(\"Bob's Math grade is:\", student_grades[\"Bob\"][\"Math\"])\n",
    "else:\n",
    "    print(\"Bob does not have a grade for Math.\")\n"
   ]
  },
  {
   "cell_type": "markdown",
   "metadata": {},
   "source": [
    "### 17. Describe the time complexity of accessing elements in a dictionary\n",
    "\n",
    "-   The time complexity of accessing elements in a dictionary in Python is O(1), on average. This means that the time it takes to retrieve a value given a key is constant, regardless of the size of the dictionary. This efficient performance is achieved through the use of a hash table, which allows for direct indexing based on the key's hash value.\n",
    "\n",
    "-   Here's a breakdown of the factors contributing to this time complexity:\n",
    "\n",
    "-       Hash Function: When you access a value in a dictionary, the key is first passed through a hash function, which generates a hash value.\n",
    "\n",
    "-       Index Calculation: The hash value is used to calculate an index in the underlying array (hash table) where the value is stored.\n",
    "\n",
    "-       Direct Access: Using the calculated index, the value can be directly accessed in constant time.\n",
    "\n",
    "However, it is important to note that the worst-case time complexity for dictionary operations can be O(n), where n is the number of elements in the dictionary. This can occur in rare situations, such as when many keys have the same hash value, leading to collisions. In such cases, the dictionary may need to handle these collisions using techniques like chaining or open addressing, which can degrade performance. Despite this, the average case remains O(1) due to the effectiveness of Python's hash function and collision resolution strategies.\n",
    "\n"
   ]
  },
  {
   "cell_type": "markdown",
   "metadata": {},
   "source": [
    "### 18. In what situations are lists preferred over dictionaries?\n",
    "\n",
    "-   Lists and dictionaries serve different purposes and are best suited for different scenarios. Here are some situations where lists are preferred over dictionaries:\n",
    "\n",
    "-       Ordered Collection: If you need to maintain the order of elements, lists are the way to go. Lists preserve the insertion order, allowing you to access elements by their position.\n",
    "\n",
    "-       Index-Based Access: When you need to access elements by their index, lists are more suitable. Lists provide efficient access to elements based on their position.\n",
    "\n",
    "-       Sequential Processing: When you want to process elements in a sequential manner, such as iterating over a range of values, lists are a natural choice.\n",
    "\n",
    "-       Homogeneous Data: Lists are often used to store collections of similar items, such as a list of integers or a list of strings.\n",
    "\n",
    "-       Simple Data Structures: For simpler data structures where you don't need to associate keys with values, lists are easier to use and more straightforward.\n",
    "\n",
    "-       Memory Efficiency: Lists generally have a smaller memory footprint compared to dictionaries for the same number of elements, making them more efficient when memory usage is a concern.\n",
    "\n",
    "\n",
    "\n"
   ]
  },
  {
   "cell_type": "markdown",
   "metadata": {},
   "source": [
    "### 19. Why are dictionaries considered unordered, and how does that affect data retrieval?\n",
    "\n",
    "-   Dictionaries are considered unordered collections because their elements (key-value pairs) are not stored in any specific order. The primary reason for this is that dictionaries are implemented using hash tables, which prioritize efficient data retrieval over maintaining the order of elements.\n",
    "\n",
    "In a hash table, keys are passed through a hash function that generates a hash value. This hash value is then used to determine the index in the underlying array where the corresponding value is stored. Since the hash function's output is not predictable, the order of elements in a dictionary is not fixed and can change as elements are added or removed.\n",
    "\n",
    "-   Impact on Data Retrieval: \n",
    "-       Key-Based Access: The unordered nature of dictionaries does not affect data retrieval when accessing elements by their keys. You can still quickly retrieve values using the keys, thanks to the efficient hashing mechanism.\n",
    "\n",
    "-       Iteration Order: When iterating over a dictionary, the order in which the key-value pairs are returned is not guaranteed to be the same as the order in which they were added. This means you should not rely on the iteration order for operations that depend on a specific sequence.\n",
    "\n",
    "-       Insertion Order (Python 3.7+): Starting with Python 3.7, dictionaries maintain insertion order as an implementation detail of CPython. This means that the elements are iterated in the order they were added. However, it's important to note that this behavior is an implementation detail and should not be relied upon in all cases."
   ]
  },
  {
   "cell_type": "markdown",
   "metadata": {},
   "source": [
    "### 20. Explain the difference between a list and a dictionary in terms of data retrieval?\n",
    "\n",
    "\n",
    "Lists and dictionaries are both essential data structures in Python, but they differ significantly in terms of data retrieval. Here's a detailed comparison:\n",
    "\n",
    "-   #### Lists\n",
    "-       Data Retrieval by Index: Lists are ordered collections, and elements are accessed by their index positions. The time complexity for accessing an element by its index is O(1) (constant time).\n",
    "\n",
    "-       Sequential Access: Lists are ideal for sequential access and iteration. You can easily loop through elements in the order they were added.\n",
    "\n",
    "-       Duplicate Values: Lists can contain duplicate values.\n",
    "\n",
    "\n",
    "-   #### Dictionaries:\n",
    "\n",
    "-       Data Retrieval by Key: Dictionaries are unordered collections, and elements are accessed by their keys. The time complexity for retrieving a value by its key is O(1) (constant time) on average, due to the use of hash tables.\n",
    "\n",
    "-       Key-Value Pairs: Dictionaries store data as key-value pairs, allowing for efficient lookups and retrievals based on unique keys.\n",
    "\n",
    "-       No Duplicate Keys: Each key in a dictionary must be unique. If you try to add a duplicate key, the existing key's value will be updated.\n",
    "\n"
   ]
  },
  {
   "cell_type": "markdown",
   "metadata": {},
   "source": [
    "## Theory Questions:"
   ]
  },
  {
   "cell_type": "markdown",
   "metadata": {},
   "source": [
    "### 1. Write a code to create a string with your name and print it?"
   ]
  },
  {
   "cell_type": "code",
   "execution_count": 12,
   "metadata": {},
   "outputs": [
    {
     "name": "stdout",
     "output_type": "stream",
     "text": [
      "Swagata Kundu\n"
     ]
    }
   ],
   "source": [
    "# Creating a string with my name\n",
    "copilot_name = \"Swagata Kundu\"\n",
    "\n",
    "# Printing the string\n",
    "print(copilot_name)\n"
   ]
  },
  {
   "cell_type": "markdown",
   "metadata": {},
   "source": [
    "### 2. Write a code to find the length of the string \"Hello World\"?"
   ]
  },
  {
   "cell_type": "code",
   "execution_count": 13,
   "metadata": {},
   "outputs": [
    {
     "name": "stdout",
     "output_type": "stream",
     "text": [
      "The length of the string 'Hello World' is: 11\n"
     ]
    }
   ],
   "source": [
    "# Creating the string\n",
    "my_string = \"Hello World\"\n",
    "\n",
    "# Finding the length of the string\n",
    "string_length = len(my_string)\n",
    "\n",
    "# Printing the length of the string\n",
    "print(\"The length of the string 'Hello World' is:\", string_length)\n"
   ]
  },
  {
   "cell_type": "markdown",
   "metadata": {},
   "source": [
    "### 3. Write a code to slice the first 3 characters from the string \"Python Programming?"
   ]
  },
  {
   "cell_type": "code",
   "execution_count": 14,
   "metadata": {},
   "outputs": [
    {
     "name": "stdout",
     "output_type": "stream",
     "text": [
      "Pyt\n"
     ]
    }
   ],
   "source": [
    "# Creating the string\n",
    "my_string = \"Python Programming\"\n",
    "\n",
    "# Slicing the first 3 characters\n",
    "sliced_string = my_string[:3]\n",
    "\n",
    "# Printing the sliced string\n",
    "print(sliced_string)\n"
   ]
  },
  {
   "cell_type": "markdown",
   "metadata": {},
   "source": [
    "### 4. Write a code to convert the string \"hello\" to uppercase?"
   ]
  },
  {
   "cell_type": "code",
   "execution_count": 15,
   "metadata": {},
   "outputs": [
    {
     "name": "stdout",
     "output_type": "stream",
     "text": [
      "HELLO\n"
     ]
    }
   ],
   "source": [
    "# Creating the string\n",
    "my_string = \"hello\"\n",
    "\n",
    "# Converting the string to uppercase\n",
    "uppercase_string = my_string.upper()\n",
    "\n",
    "# Printing the uppercase string\n",
    "print(uppercase_string)\n"
   ]
  },
  {
   "cell_type": "markdown",
   "metadata": {},
   "source": [
    "### 5. Write a code to replace the word \"apple\" with \"orange\" in the string \"I like apple\"?"
   ]
  },
  {
   "cell_type": "code",
   "execution_count": 16,
   "metadata": {},
   "outputs": [
    {
     "name": "stdout",
     "output_type": "stream",
     "text": [
      "I like orange\n"
     ]
    }
   ],
   "source": [
    "# Creating the string\n",
    "my_string = \"I like apple\"\n",
    "\n",
    "# Replacing \"apple\" with \"orange\"\n",
    "new_string = my_string.replace(\"apple\", \"orange\")\n",
    "\n",
    "# Printing the new string\n",
    "print(new_string)\n"
   ]
  },
  {
   "cell_type": "markdown",
   "metadata": {},
   "source": [
    "### 6. Write a code to create a list with numbers 1 to 5 and print it?"
   ]
  },
  {
   "cell_type": "code",
   "execution_count": 17,
   "metadata": {},
   "outputs": [
    {
     "name": "stdout",
     "output_type": "stream",
     "text": [
      "[1, 2, 3, 4, 5]\n"
     ]
    }
   ],
   "source": [
    "# Creating a list with numbers 1 to 5\n",
    "my_list = [1, 2, 3, 4, 5]\n",
    "\n",
    "# Printing the list\n",
    "print(my_list)\n"
   ]
  },
  {
   "cell_type": "markdown",
   "metadata": {},
   "source": [
    "### 7. Write a code to append the number 10 to the list [1, 2, 3, 4]?"
   ]
  },
  {
   "cell_type": "code",
   "execution_count": 18,
   "metadata": {},
   "outputs": [
    {
     "name": "stdout",
     "output_type": "stream",
     "text": [
      "[1, 2, 3, 4, 10]\n"
     ]
    }
   ],
   "source": [
    "# Creating the initial list\n",
    "my_list = [1, 2, 3, 4]\n",
    "\n",
    "# Appending the number 10 to the list\n",
    "my_list.append(10)\n",
    "\n",
    "# Printing the updated list\n",
    "print(my_list)\n"
   ]
  },
  {
   "cell_type": "markdown",
   "metadata": {},
   "source": [
    "### 7. Write a code to append the number 10 to the list [1, 2, 3, 4]?"
   ]
  },
  {
   "cell_type": "code",
   "execution_count": 19,
   "metadata": {},
   "outputs": [
    {
     "name": "stdout",
     "output_type": "stream",
     "text": [
      "[1, 2, 3, 4, 10]\n"
     ]
    }
   ],
   "source": [
    "# Creating the initial list\n",
    "my_list = [1, 2, 3, 4]\n",
    "\n",
    "# Appending the number 10 to the list\n",
    "my_list.append(10)\n",
    "\n",
    "# Printing the updated list\n",
    "print(my_list)\n"
   ]
  },
  {
   "cell_type": "markdown",
   "metadata": {},
   "source": [
    "### 8. Write a code to remove the number 3 from the list [1, 2, 3, 4, 5]?"
   ]
  },
  {
   "cell_type": "code",
   "execution_count": 20,
   "metadata": {},
   "outputs": [
    {
     "name": "stdout",
     "output_type": "stream",
     "text": [
      "[1, 2, 4, 5]\n"
     ]
    }
   ],
   "source": [
    "# Creating the initial list\n",
    "my_list = [1, 2, 3, 4, 5]\n",
    "\n",
    "# Removing the number 3 from the list\n",
    "my_list.remove(3)\n",
    "\n",
    "# Printing the updated list\n",
    "print(my_list)\n"
   ]
  },
  {
   "cell_type": "markdown",
   "metadata": {},
   "source": [
    "### 9. Write a code to access the second element in the list ['a', 'b', 'c', 'd']?"
   ]
  },
  {
   "cell_type": "code",
   "execution_count": 21,
   "metadata": {},
   "outputs": [
    {
     "name": "stdout",
     "output_type": "stream",
     "text": [
      "b\n"
     ]
    }
   ],
   "source": [
    "# Creating the list\n",
    "my_list = ['a', 'b', 'c', 'd']\n",
    "\n",
    "# Accessing the second element (index 1)\n",
    "second_element = my_list[1]\n",
    "\n",
    "# Printing the second element\n",
    "print(second_element)\n"
   ]
  },
  {
   "cell_type": "markdown",
   "metadata": {},
   "source": [
    "### 10. Write a code to reverse the list [10, 20, 30, 40, 50]?"
   ]
  },
  {
   "cell_type": "code",
   "execution_count": 22,
   "metadata": {},
   "outputs": [
    {
     "name": "stdout",
     "output_type": "stream",
     "text": [
      "[50, 40, 30, 20, 10]\n"
     ]
    }
   ],
   "source": [
    "# Creating the initial list\n",
    "my_list = [10, 20, 30, 40, 50]\n",
    "\n",
    "# Reversing the list\n",
    "reversed_list = my_list[::-1]\n",
    "\n",
    "# Printing the reversed list\n",
    "print(reversed_list)\n"
   ]
  },
  {
   "cell_type": "markdown",
   "metadata": {},
   "source": [
    "### 11. Write a code to create a tuple with the elements 100, 200, 300 and print it?"
   ]
  },
  {
   "cell_type": "code",
   "execution_count": 23,
   "metadata": {},
   "outputs": [
    {
     "name": "stdout",
     "output_type": "stream",
     "text": [
      "(100, 200, 300)\n"
     ]
    }
   ],
   "source": [
    "# Creating a tuple with elements 100, 200, 300\n",
    "my_tuple = (100, 200, 300)\n",
    "\n",
    "# Printing the tuple\n",
    "print(my_tuple)\n"
   ]
  },
  {
   "cell_type": "markdown",
   "metadata": {},
   "source": [
    "### 12. Write a code to access the second-to-last element of the tuple ('red', 'green', 'blue', 'yellow')?"
   ]
  },
  {
   "cell_type": "code",
   "execution_count": 24,
   "metadata": {},
   "outputs": [
    {
     "name": "stdout",
     "output_type": "stream",
     "text": [
      "blue\n"
     ]
    }
   ],
   "source": [
    "# Creating the tuple\n",
    "my_tuple = ('red', 'green', 'blue', 'yellow')\n",
    "\n",
    "# Accessing the second-to-last element\n",
    "second_to_last_element = my_tuple[-2]\n",
    "\n",
    "# Printing the second-to-last element\n",
    "print(second_to_last_element)\n"
   ]
  },
  {
   "cell_type": "markdown",
   "metadata": {},
   "source": [
    "### 13. Write a code to find the minimum number in the tuple (10, 20, 5, 15)?"
   ]
  },
  {
   "cell_type": "code",
   "execution_count": 26,
   "metadata": {},
   "outputs": [
    {
     "name": "stdout",
     "output_type": "stream",
     "text": [
      "The minimum number in the tuple is: 5\n"
     ]
    }
   ],
   "source": [
    "# Creating the tuple\n",
    "my_tuple = (10, 20, 5, 15)\n",
    "\n",
    "# Finding the minimum number in the tuple\n",
    "min_number = min(my_tuple)\n",
    "\n",
    "# Printing the minimum number\n",
    "print(\"The minimum number in the tuple is:\", min_number)\n",
    "\n"
   ]
  },
  {
   "cell_type": "markdown",
   "metadata": {},
   "source": [
    "### 14. Write a code to find the index of the element \"cat\" in the tuple ('dog', 'cat', 'rabbit').\n",
    "?"
   ]
  },
  {
   "cell_type": "code",
   "execution_count": 27,
   "metadata": {},
   "outputs": [
    {
     "name": "stdout",
     "output_type": "stream",
     "text": [
      "The index of 'cat' in the tuple is: 1\n"
     ]
    }
   ],
   "source": [
    "# Creating the tuple\n",
    "my_tuple = ('dog', 'cat', 'rabbit')\n",
    "\n",
    "# Finding the index of the element \"cat\"\n",
    "index_of_cat = my_tuple.index('cat')\n",
    "\n",
    "# Printing the index of the element \"cat\"\n",
    "print(\"The index of 'cat' in the tuple is:\", index_of_cat)\n"
   ]
  },
  {
   "cell_type": "markdown",
   "metadata": {},
   "source": [
    "### 15. Write a code to create a tuple containing three different fruits and check if \"kiwi\" is in it."
   ]
  },
  {
   "cell_type": "code",
   "execution_count": 28,
   "metadata": {},
   "outputs": [
    {
     "name": "stdout",
     "output_type": "stream",
     "text": [
      "Is 'kiwi' in the tuple? False\n"
     ]
    }
   ],
   "source": [
    "# Creating a tuple containing three different fruits\n",
    "fruit_tuple = ('apple', 'banana', 'cherry')\n",
    "\n",
    "# Checking if \"kiwi\" is in the tuple\n",
    "is_kiwi_in_tuple = 'kiwi' in fruit_tuple\n",
    "\n",
    "# Printing the result\n",
    "print(\"Is 'kiwi' in the tuple?\", is_kiwi_in_tuple)\n"
   ]
  },
  {
   "cell_type": "markdown",
   "metadata": {},
   "source": [
    "### 16. Write a code to create a set with the elements 'a', 'b', 'c' and print it.\n"
   ]
  },
  {
   "cell_type": "code",
   "execution_count": null,
   "metadata": {},
   "outputs": [],
   "source": [
    "# Creating a set with elements 'a', 'b', 'c'\n",
    "my_set = {'a', 'b', 'c'}\n",
    "\n",
    "# Printing the set\n",
    "print(my_set)\n"
   ]
  },
  {
   "cell_type": "markdown",
   "metadata": {},
   "source": [
    "### 17.Write a code to clear all elements from the set {1, 2, 3, 4, 5)."
   ]
  },
  {
   "cell_type": "code",
   "execution_count": null,
   "metadata": {},
   "outputs": [],
   "source": [
    "# Creating the initial set\n",
    "my_set = {1, 2, 3, 4, 5}\n",
    "\n",
    "# Clearing all elements from the set\n",
    "my_set.clear()\n",
    "\n",
    "# Printing the cleared set\n",
    "print(my_set)\n"
   ]
  },
  {
   "cell_type": "markdown",
   "metadata": {},
   "source": [
    "### 18.Write a code to remove the element 4 from the set {1, 2, 3, 4}.\n"
   ]
  },
  {
   "cell_type": "code",
   "execution_count": 29,
   "metadata": {},
   "outputs": [
    {
     "name": "stdout",
     "output_type": "stream",
     "text": [
      "{1, 2, 3}\n"
     ]
    }
   ],
   "source": [
    "# Creating the initial set\n",
    "my_set = {1, 2, 3, 4}\n",
    "\n",
    "# Removing the element 4 from the set\n",
    "my_set.remove(4)\n",
    "\n",
    "# Printing the updated set\n",
    "print(my_set)\n"
   ]
  },
  {
   "cell_type": "markdown",
   "metadata": {},
   "source": [
    "### 19.Write a code to find the union of two sets {1, 2, 3} and {3, 4, 5}"
   ]
  },
  {
   "cell_type": "code",
   "execution_count": 30,
   "metadata": {},
   "outputs": [
    {
     "name": "stdout",
     "output_type": "stream",
     "text": [
      "{1, 2, 3, 4, 5}\n"
     ]
    }
   ],
   "source": [
    "# Creating the two sets\n",
    "set1 = {1, 2, 3}\n",
    "set2 = {3, 4, 5}\n",
    "\n",
    "# Finding the union of the two sets\n",
    "union_set = set1.union(set2)\n",
    "\n",
    "# Printing the union of the two sets\n",
    "print(union_set)\n"
   ]
  },
  {
   "cell_type": "markdown",
   "metadata": {},
   "source": [
    "### 20.WWrite a code to find the intersection of two sets {1, 2, 3} and {2, 3, 4}.\n"
   ]
  },
  {
   "cell_type": "code",
   "execution_count": 32,
   "metadata": {},
   "outputs": [
    {
     "name": "stdout",
     "output_type": "stream",
     "text": [
      "{2, 3}\n"
     ]
    }
   ],
   "source": [
    "# Creating the two sets\n",
    "set1 = {1, 2, 3}\n",
    "set2 = {2, 3, 4}\n",
    "\n",
    "# Finding the intersection of the two sets\n",
    "intersection_set = set1.intersection(set2)\n",
    "\n",
    "# Printing the intersection of the two sets\n",
    "print(intersection_set)\n"
   ]
  },
  {
   "cell_type": "markdown",
   "metadata": {},
   "source": [
    "### 21. Write a code to create a dictionary with the keys \"name\", \"age\", and \"city\", and print it.\n"
   ]
  },
  {
   "cell_type": "code",
   "execution_count": 33,
   "metadata": {},
   "outputs": [
    {
     "name": "stdout",
     "output_type": "stream",
     "text": [
      "{'name': 'John Doe', 'age': 30, 'city': 'New York'}\n"
     ]
    }
   ],
   "source": [
    "# Creating the dictionary with the keys \"name\", \"age\", and \"city\"\n",
    "my_dict = {\n",
    "    \"name\": \"John Doe\",\n",
    "    \"age\": 30,\n",
    "    \"city\": \"New York\"\n",
    "}\n",
    "\n",
    "# Printing the dictionary\n",
    "print(my_dict)\n"
   ]
  },
  {
   "cell_type": "markdown",
   "metadata": {},
   "source": [
    "### 22. Write a code to add a new key-value pair \"country\": \"USA\" to the dictionary {'name': 'John', 'age': 25}"
   ]
  },
  {
   "cell_type": "code",
   "execution_count": null,
   "metadata": {},
   "outputs": [],
   "source": [
    "# Creating the initial dictionary\n",
    "my_dict = {'name': 'John', 'age': 25}\n",
    "\n",
    "# Adding the new key-value pair \"country\": \"USA\"\n",
    "my_dict['country'] = 'USA'\n",
    "\n",
    "# Printing the updated dictionary\n",
    "print(my_dict)\n"
   ]
  },
  {
   "cell_type": "markdown",
   "metadata": {},
   "source": [
    "### 23. Write a code to access the value associated with the key \"name\" in the dictionary {'name': 'Alice', 'age': 30}.\n"
   ]
  },
  {
   "cell_type": "code",
   "execution_count": null,
   "metadata": {},
   "outputs": [],
   "source": [
    "# Creating the dictionary\n",
    "my_dict = {'name': 'Alice', 'age': 30}\n",
    "\n",
    "# Accessing the value associated with the key \"name\"\n",
    "name_value = my_dict['name']\n",
    "\n",
    "# Printing the value\n",
    "print(name_value)\n"
   ]
  },
  {
   "cell_type": "markdown",
   "metadata": {},
   "source": [
    "### 24. Write a code to remove the key \"age\" from the dictionary {'name': 'Bob', 'age': 22, 'city': 'New York'}."
   ]
  },
  {
   "cell_type": "code",
   "execution_count": 34,
   "metadata": {},
   "outputs": [
    {
     "name": "stdout",
     "output_type": "stream",
     "text": [
      "{'name': 'Bob', 'city': 'New York'}\n"
     ]
    }
   ],
   "source": [
    "# Creating the initial dictionary\n",
    "my_dict = {'name': 'Bob', 'age': 22, 'city': 'New York'}\n",
    "\n",
    "# Removing the key \"age\" from the dictionary\n",
    "my_dict.pop('age')\n",
    "\n",
    "# Printing the updated dictionary\n",
    "print(my_dict)\n"
   ]
  },
  {
   "cell_type": "markdown",
   "metadata": {},
   "source": [
    "### 25. Write a code to check if the key \"city\" exists in the dictionary {'name': 'Alice', 'city': 'Paris'}.\n"
   ]
  },
  {
   "cell_type": "code",
   "execution_count": null,
   "metadata": {},
   "outputs": [],
   "source": [
    "# Creating the dictionary\n",
    "my_dict = {'name': 'Alice', 'city': 'Paris'}\n",
    "\n",
    "# Checking if the key \"city\" exists in the dictionary\n",
    "key_exists = 'city' in my_dict\n",
    "\n",
    "# Printing the result\n",
    "print(\"Does the key 'city' exist in the dictionary?\", key_exists)\n"
   ]
  },
  {
   "cell_type": "markdown",
   "metadata": {},
   "source": [
    "### 26. Write a code to create a list, a tuple, and a dictionary, and print them all.\n"
   ]
  },
  {
   "cell_type": "code",
   "execution_count": 35,
   "metadata": {},
   "outputs": [
    {
     "name": "stdout",
     "output_type": "stream",
     "text": [
      "List: [1, 2, 3, 4, 5]\n",
      "Tuple: ('apple', 'banana', 'cherry')\n",
      "Dictionary: {'name': 'Alice', 'age': 30, 'city': 'Paris'}\n"
     ]
    }
   ],
   "source": [
    "# Creating a list\n",
    "my_list = [1, 2, 3, 4, 5]\n",
    "\n",
    "# Creating a tuple\n",
    "my_tuple = ('apple', 'banana', 'cherry')\n",
    "\n",
    "# Creating a dictionary\n",
    "my_dict = {\n",
    "    'name': 'Alice',\n",
    "    'age': 30,\n",
    "    'city': 'Paris'\n",
    "}\n",
    "\n",
    "# Printing the list\n",
    "print(\"List:\", my_list)\n",
    "\n",
    "# Printing the tuple\n",
    "print(\"Tuple:\", my_tuple)\n",
    "\n",
    "# Printing the dictionary\n",
    "print(\"Dictionary:\", my_dict)\n"
   ]
  },
  {
   "cell_type": "markdown",
   "metadata": {},
   "source": [
    "### 27. Write a code to create a list of 5 random numbers between 1 and 100, sort it in ascending order, and print the\n",
    "result.(replaced)"
   ]
  },
  {
   "cell_type": "code",
   "execution_count": 36,
   "metadata": {},
   "outputs": [
    {
     "name": "stdout",
     "output_type": "stream",
     "text": [
      "Sorted list: [44, 69, 91, 92, 100]\n"
     ]
    }
   ],
   "source": [
    "import random\n",
    "\n",
    "# Creating a list of 5 random numbers between 1 and 100\n",
    "random_list = [random.randint(1, 100) for _ in range(5)]\n",
    "\n",
    "# Sorting the list in ascending order\n",
    "sorted_list = sorted(random_list)\n",
    "\n",
    "# Printing the sorted list\n",
    "print(\"Sorted list:\", sorted_list)\n"
   ]
  },
  {
   "cell_type": "markdown",
   "metadata": {},
   "source": [
    "### 28. Write a code to create a list with strings and print the element at the third index.\n"
   ]
  },
  {
   "cell_type": "code",
   "execution_count": 37,
   "metadata": {},
   "outputs": [
    {
     "name": "stdout",
     "output_type": "stream",
     "text": [
      "date\n"
     ]
    }
   ],
   "source": [
    "# Creating the list with strings\n",
    "my_list = ['apple', 'banana', 'cherry', 'date', 'elderberry']\n",
    "\n",
    "# Printing the element at the third index (index 3)\n",
    "print(my_list[3])\n"
   ]
  },
  {
   "cell_type": "markdown",
   "metadata": {},
   "source": [
    "### 29. Write a code to combine two dictionaries into one and print the result.\n",
    "\n"
   ]
  },
  {
   "cell_type": "code",
   "execution_count": 38,
   "metadata": {},
   "outputs": [
    {
     "name": "stdout",
     "output_type": "stream",
     "text": [
      "{'name': 'Alice', 'age': 30, 'city': 'Paris', 'country': 'France'}\n"
     ]
    }
   ],
   "source": [
    "# Creating the two dictionaries\n",
    "dict1 = {'name': 'Alice', 'age': 30}\n",
    "dict2 = {'city': 'Paris', 'country': 'France'}\n",
    "\n",
    "# Combining the two dictionaries into one\n",
    "combined_dict = {**dict1, **dict2}\n",
    "\n",
    "# Printing the combined dictionary\n",
    "print(combined_dict)\n"
   ]
  },
  {
   "cell_type": "markdown",
   "metadata": {},
   "source": [
    "### 30. Write a code to convert a list of strings into a set."
   ]
  },
  {
   "cell_type": "code",
   "execution_count": 39,
   "metadata": {},
   "outputs": [
    {
     "name": "stdout",
     "output_type": "stream",
     "text": [
      "{'apple', 'banana', 'cherry'}\n"
     ]
    }
   ],
   "source": [
    "# Creating the list of strings\n",
    "my_list = ['apple', 'banana', 'cherry', 'apple', 'banana']\n",
    "\n",
    "# Converting the list into a set\n",
    "my_set = set(my_list)\n",
    "\n",
    "# Printing the set\n",
    "print(my_set)\n"
   ]
  }
 ],
 "metadata": {
  "kernelspec": {
   "display_name": "Python 3 (ipykernel)",
   "language": "python",
   "name": "python3"
  },
  "language_info": {
   "codemirror_mode": {
    "name": "ipython",
    "version": 3
   },
   "file_extension": ".py",
   "mimetype": "text/x-python",
   "name": "python",
   "nbconvert_exporter": "python",
   "pygments_lexer": "ipython3",
   "version": "3.13.2"
  }
 },
 "nbformat": 4,
 "nbformat_minor": 5
}
